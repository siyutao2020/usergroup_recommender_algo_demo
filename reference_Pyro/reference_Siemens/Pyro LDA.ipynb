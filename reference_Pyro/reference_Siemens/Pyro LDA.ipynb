{
 "cells": [
  {
   "cell_type": "code",
   "execution_count": 1,
   "metadata": {},
   "outputs": [],
   "source": [
    "# import some dependencies\n",
    "import numpy as np\n",
    "import matplotlib.pyplot as plt\n",
    "\n",
    "import torch\n",
    "import pyro\n",
    "import pyro.distributions as dist\n",
    "from pyro.optim import Adam\n",
    "from pyro.infer import SVI, Trace_ELBO,TraceEnum_ELBO,config_enumerate\n",
    "import torch.distributions.constraints as constraints\n",
    "\n",
    "pyro.enable_validation(True)"
   ]
  },
  {
   "cell_type": "code",
   "execution_count": 2,
   "metadata": {},
   "outputs": [],
   "source": [
    "D = 4          #document\n",
    "N = [15,8,9,11]   #words\n",
    "K = 5          #topics\n",
    "V = 15        #vocabulary size\n",
    "\n",
    "theta = dist.Dirichlet(torch.zeros([D, K])+0.1).sample()\n",
    "phi = dist.Dirichlet(torch.zeros([K, V])+0.05).sample()\n",
    "\n",
    "z = [torch.zeros(n, dtype=torch.long) for n in N]\n",
    "data = [torch.zeros(n) for n in N]\n",
    "for d in range(D):\n",
    "    for n in range(N[d]):\n",
    "        z[d][n] = dist.Categorical(theta[d, :]).sample()\n",
    "        data[d][n] = dist.Categorical(phi[z[d][n], :]).sample()"
   ]
  },
  {
   "cell_type": "code",
   "execution_count": 3,
   "metadata": {},
   "outputs": [
    {
     "data": {
      "text/plain": [
       "tensor([ 1.2295e-02,  4.8137e-07,  1.1921e-07,  1.1921e-07,  1.1921e-07,\n",
       "         2.8339e-05,  2.5572e-05,  1.1921e-07,  1.4379e-04,  1.0899e-03,\n",
       "         3.4792e-07,  9.8628e-01,  1.8542e-05,  1.1432e-04,  1.1921e-07])"
      ]
     },
     "execution_count": 3,
     "metadata": {},
     "output_type": "execute_result"
    }
   ],
   "source": [
    "phi[1]"
   ]
  },
  {
   "cell_type": "code",
   "execution_count": 4,
   "metadata": {},
   "outputs": [
    {
     "name": "stdout",
     "output_type": "stream",
     "text": [
      "tensor(11)\n"
     ]
    }
   ],
   "source": [
    "print(pyro.sample(\"w_%d\"%1, dist.Categorical(phi[1])))"
   ]
  },
  {
   "cell_type": "code",
   "execution_count": 5,
   "metadata": {},
   "outputs": [
    {
     "name": "stdout",
     "output_type": "stream",
     "text": [
      "tensor([ 12.,   2.,   2.,   2.,  12.,  12.,  10.,  12.])\n"
     ]
    }
   ],
   "source": [
    "print(data[1])"
   ]
  },
  {
   "cell_type": "code",
   "execution_count": 6,
   "metadata": {},
   "outputs": [],
   "source": [
    "@pyro.poutine.broadcast\n",
    "def model(data):\n",
    "    phi = pyro.sample(\"phi\",dist.Dirichlet(torch.ones([K, V])).independent(1))\n",
    "  \n",
    "    for d in pyro.irange(\"documents\", D):\n",
    "        theta_d = pyro.sample(\"theta_%d\"%d, dist.Dirichlet(torch.ones([K])))\n",
    "    \n",
    "        with pyro.iarange(\"words_%d\"%d, N[d]):\n",
    "            z = pyro.sample(\"z_%d\"%d, dist.Categorical(theta_d))\n",
    "            pyro.sample(\"w_%d\"%d, dist.Categorical(phi[z]), obs=data[d])\n",
    "        \n",
    "@pyro.poutine.broadcast\n",
    "def guide(data):\n",
    "    beta_q = pyro.param(\"beta_q\", torch.ones([K, V]),constraint=constraints.positive)\n",
    "    pyro.sample(\"phi\",dist.Dirichlet(beta_q).independent(1))\n",
    "  \n",
    "    for d in pyro.irange(\"documents\", D):\n",
    "        alpha_q = pyro.param(\"alpha_q_%d\"%d, torch.ones([K]),constraint=constraints.positive)\n",
    "        pyro.sample(\"theta_%d\"%d, dist.Dirichlet(alpha_q))\n",
    "    \n",
    "        with pyro.iarange(\"words_%d\"%d, N[d]):\n",
    "            q_i = pyro.param(\"q_%d\"%d, torch.randn([N[d], K]).exp(),\n",
    "                             constraint=constraints.simplex)\n",
    "            pyro.sample(\"z_%d\"%d, dist.Categorical(q_i))"
   ]
  },
  {
   "cell_type": "code",
   "execution_count": 7,
   "metadata": {},
   "outputs": [],
   "source": [
    "adam_params = {\"lr\": 0.01, \"betas\": (0.90, 0.999)}\n",
    "optimizer = Adam(adam_params)\n",
    "\n",
    "pyro.clear_param_store()\n",
    "svi = SVI(model, config_enumerate(guide, 'parallel'), optimizer, loss=TraceEnum_ELBO(max_iarange_nesting=2))\n",
    "\n"
   ]
  },
  {
   "cell_type": "code",
   "execution_count": 8,
   "metadata": {},
   "outputs": [
    {
     "data": {
      "image/png": "[encoded data removed]",
      "text/plain": [
       "<Figure size 432x288 with 1 Axes>"
      ]
     },
     "metadata": {},
     "output_type": "display_data"
    }
   ],
   "source": [
    "losses = []\n",
    "for t in range(300):\n",
    "    losses.append(svi.step(data))\n",
    "\n",
    "plt.plot(losses)\n",
    "plt.title(\"ELBO\")\n",
    "plt.xlabel(\"step\")\n",
    "plt.ylabel(\"loss\")"
   ]
  },
  {
   "cell_type": "code",
   "execution_count": 14,
   "metadata": {},
   "outputs": [
    {
     "data": {
      "text/plain": [
       "float"
      ]
     },
     "execution_count": 14,
     "metadata": {},
     "output_type": "execute_result"
    }
   ],
   "source": [
    "type(losses[0])"
   ]
  },
  {
   "cell_type": "code",
   "execution_count": 9,
   "metadata": {
    "scrolled": true
   },
   "outputs": [
    {
     "data": {
      "text/plain": [
       "tensor([[ 0.1271,  0.1717,  0.2059,  0.2488,  0.2465],\n",
       "        [ 0.1247,  0.2284,  0.1924,  0.2634,  0.1910],\n",
       "        [ 0.1246,  0.1702,  0.2290,  0.2444,  0.2319],\n",
       "        [ 0.1282,  0.2082,  0.2130,  0.1951,  0.2554],\n",
       "        [ 0.1386,  0.2015,  0.1905,  0.2301,  0.2393],\n",
       "        [ 0.2026,  0.2201,  0.1341,  0.2817,  0.1615],\n",
       "        [ 0.1331,  0.2247,  0.1919,  0.2191,  0.2311],\n",
       "        [ 0.1248,  0.2176,  0.2078,  0.2268,  0.2229],\n",
       "        [ 0.1233,  0.2297,  0.2044,  0.2398,  0.2028],\n",
       "        [ 0.2023,  0.1708,  0.1335,  0.3048,  0.1886],\n",
       "        [ 0.1270,  0.2012,  0.2341,  0.2022,  0.2355]])"
      ]
     },
     "execution_count": 9,
     "metadata": {},
     "output_type": "execute_result"
    }
   ],
   "source": [
    "pyro.param('q_3')"
   ]
  },
  {
   "cell_type": "code",
   "execution_count": 21,
   "metadata": {},
   "outputs": [
    {
     "name": "stdout",
     "output_type": "stream",
     "text": [
      "[[0.12712824 0.17167149 0.20592479 0.24880783 0.24646768]\n",
      " [0.         0.         0.         0.         0.        ]]\n"
     ]
    }
   ],
   "source": [
    "aa = np.zeros([2,5])\n",
    "aa[0,:] = pyro.param('q_3')[0].detach().numpy()\n",
    "print(aa)"
   ]
  },
  {
   "cell_type": "code",
   "execution_count": 10,
   "metadata": {},
   "outputs": [
    {
     "data": {
      "text/plain": [
       "tensor([ 3,  1,  3,  1,  1,  3,  1,  1,  1,  3,  1])"
      ]
     },
     "execution_count": 10,
     "metadata": {},
     "output_type": "execute_result"
    }
   ],
   "source": [
    "z[3]"
   ]
  },
  {
   "cell_type": "code",
   "execution_count": 11,
   "metadata": {},
   "outputs": [
    {
     "data": {
      "text/plain": [
       "tensor([ 0.1718,  0.0291,  0.1095,  0.0263,  0.0123,  0.0766,  0.0110,\n",
       "         0.0452,  0.1632,  0.0163,  0.0381,  0.1182,  0.0988,  0.0388,\n",
       "         0.0450])"
      ]
     },
     "execution_count": 11,
     "metadata": {},
     "output_type": "execute_result"
    }
   ],
   "source": [
    "dist.Dirichlet(pyro.param('beta_q')).sample()[1]"
   ]
  },
  {
   "cell_type": "code",
   "execution_count": 12,
   "metadata": {},
   "outputs": [
    {
     "data": {
      "text/plain": [
       "(tensor(0.9863), tensor(11))"
      ]
     },
     "execution_count": 12,
     "metadata": {},
     "output_type": "execute_result"
    }
   ],
   "source": [
    "phi[1].max(0)"
   ]
  },
  {
   "cell_type": "code",
   "execution_count": null,
   "metadata": {},
   "outputs": [],
   "source": []
  }
 ],
 "metadata": {
  "kernelspec": {
   "display_name": "Python 3",
   "language": "python",
   "name": "python3"
  },
  "language_info": {
   "codemirror_mode": {
    "name": "ipython",
    "version": 3
   },
   "file_extension": ".py",
   "mimetype": "text/x-python",
   "name": "python",
   "nbconvert_exporter": "python",
   "pygments_lexer": "ipython3",
   "version": "3.6.6"
  }
 },
 "nbformat": 4,
 "nbformat_minor": 2
}