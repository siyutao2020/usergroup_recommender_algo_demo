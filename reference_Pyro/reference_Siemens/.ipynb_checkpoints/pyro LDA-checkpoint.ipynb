{
 "cells": [
  {
   "cell_type": "code",
   "execution_count": 1,
   "metadata": {},
   "outputs": [],
   "source": [
    "# import some dependencies\n",
    "import numpy as np\n",
    "import matplotlib.pyplot as plt\n",
    "\n",
    "import torch\n",
    "import pyro\n",
    "import pyro.distributions as dist\n",
    "from pyro.optim import Adam\n",
    "from pyro.infer import SVI, Trace_ELBO,TraceEnum_ELBO,config_enumerate\n",
    "import torch.distributions.constraints as constraints\n",
    "\n",
    "pyro.enable_validation(True)"
   ]
  },
  {
   "cell_type": "code",
   "execution_count": 2,
   "metadata": {},
   "outputs": [],
   "source": [
    "D = 4          #document\n",
    "N = [15,8,9,11]   #words\n",
    "K = 5          #topics\n",
    "V = 15        #vocabulary size\n",
    "\n",
    "theta = dist.Dirichlet(torch.zeros([D, K])+0.1).sample()\n",
    "phi = dist.Dirichlet(torch.zeros([K, V])+0.05).sample()\n",
    "\n",
    "z = [torch.zeros(n, dtype=torch.long) for n in N]\n",
    "data = [torch.zeros(n) for n in N]\n",
    "for d in range(D):\n",
    "    for n in range(N[d]):\n",
    "        z[d][n] = dist.Categorical(theta[d, :]).sample()\n",
    "        data[d][n] = dist.Categorical(phi[z[d][n], :]).sample()"
   ]
  },
  {
   "cell_type": "code",
   "execution_count": 13,
   "metadata": {},
   "outputs": [
    {
     "data": {
      "text/plain": [
       "tensor([ 6.7690e-04,  4.4225e-03,  1.1346e-02,  4.2800e-06,  2.2628e-03,\n",
       "         2.3432e-06,  9.7924e-01,  1.1487e-06,  1.1921e-07,  1.9690e-03,\n",
       "         7.8891e-05,  1.1921e-07,  1.1921e-07,  1.1921e-07,  1.1921e-07])"
      ]
     },
     "execution_count": 13,
     "metadata": {},
     "output_type": "execute_result"
    }
   ],
   "source": [
    "phi[1,:]"
   ]
  },
  {
   "cell_type": "code",
   "execution_count": 3,
   "metadata": {},
   "outputs": [],
   "source": [
    "@pyro.poutine.broadcast\n",
    "def model(data):\n",
    "    phi = pyro.sample(\"phi\",dist.Dirichlet(torch.ones([K, V])).independent(1))\n",
    "  \n",
    "    for d in pyro.irange(\"documents\", D):\n",
    "        theta_d = pyro.sample(\"theta_%d\"%d, dist.Dirichlet(torch.ones([K])))\n",
    "    \n",
    "        with pyro.iarange(\"words_%d\"%d, N[d]):\n",
    "            z = pyro.sample(\"z_%d\"%d, dist.Categorical(theta_d))\n",
    "            pyro.sample(\"w_%d\"%d, dist.Categorical(phi[z]), obs=data[d])\n",
    "        \n",
    "@pyro.poutine.broadcast\n",
    "def guide(data):\n",
    "    beta_q = pyro.param(\"beta_q\", torch.ones([K, V]),constraint=constraints.positive)\n",
    "    pyro.sample(\"phi\",dist.Dirichlet(beta_q).independent(1))\n",
    "  \n",
    "    for d in pyro.irange(\"documents\", D):\n",
    "        alpha_q = pyro.param(\"alpha_q_%d\"%d, torch.ones([K]),constraint=constraints.positive)\n",
    "        pyro.sample(\"theta_%d\"%d, dist.Dirichlet(alpha_q))\n",
    "    \n",
    "        with pyro.iarange(\"words_%d\"%d, N[d]):\n",
    "            q_i = pyro.param(\"q_%d\"%d, torch.randn([N[d], K]).exp(),\n",
    "                             constraint=constraints.simplex)\n",
    "            pyro.sample(\"z_%d\"%d, dist.Categorical(q_i))"
   ]
  },
  {
   "cell_type": "code",
   "execution_count": 4,
   "metadata": {},
   "outputs": [],
   "source": [
    "adam_params = {\"lr\": 0.01, \"betas\": (0.90, 0.999)}\n",
    "optimizer = Adam(adam_params)\n",
    "\n",
    "pyro.clear_param_store()\n",
    "svi = SVI(model, config_enumerate(guide, 'parallel'), optimizer, loss=TraceEnum_ELBO(max_iarange_nesting=2))\n",
    "\n"
   ]
  },
  {
   "cell_type": "code",
   "execution_count": 5,
   "metadata": {},
   "outputs": [
    {
     "data": {
      "image/png": "[encoded data removed]",
      "text/plain": [
       "<Figure size 432x288 with 1 Axes>"
      ]
     },
     "metadata": {},
     "output_type": "display_data"
    }
   ],
   "source": [
    "losses = []\n",
    "for t in range(3000):\n",
    "    losses.append(svi.step(data))\n",
    "\n",
    "plt.plot(losses)\n",
    "plt.title(\"ELBO\")\n",
    "plt.xlabel(\"step\")\n",
    "plt.ylabel(\"loss\");"
   ]
  },
  {
   "cell_type": "code",
   "execution_count": 6,
   "metadata": {},
   "outputs": [
    {
     "data": {
      "text/plain": [
       "tensor([[ 0.0088,  0.9701,  0.0084,  0.0047,  0.0080],\n",
       "        [ 0.0275,  0.9080,  0.0260,  0.0121,  0.0264],\n",
       "        [ 0.0087,  0.9700,  0.0084,  0.0047,  0.0082],\n",
       "        [ 0.0226,  0.9242,  0.0209,  0.0118,  0.0205],\n",
       "        [ 0.0478,  0.8387,  0.0471,  0.0211,  0.0453],\n",
       "        [ 0.0089,  0.9701,  0.0083,  0.0048,  0.0079],\n",
       "        [ 0.0087,  0.9701,  0.0084,  0.0047,  0.0081],\n",
       "        [ 0.0088,  0.9701,  0.0084,  0.0047,  0.0080],\n",
       "        [ 0.0226,  0.9243,  0.0209,  0.0117,  0.0205],\n",
       "        [ 0.0275,  0.9082,  0.0259,  0.0120,  0.0263],\n",
       "        [ 0.0088,  0.9701,  0.0084,  0.0045,  0.0081]])"
      ]
     },
     "execution_count": 6,
     "metadata": {},
     "output_type": "execute_result"
    }
   ],
   "source": [
    "pyro.param('q_3')"
   ]
  },
  {
   "cell_type": "code",
   "execution_count": 7,
   "metadata": {},
   "outputs": [
    {
     "data": {
      "text/plain": [
       "tensor([ 1,  1,  1,  1,  2,  1,  1,  1,  1,  1,  1])"
      ]
     },
     "execution_count": 7,
     "metadata": {},
     "output_type": "execute_result"
    }
   ],
   "source": [
    "z[3]"
   ]
  },
  {
   "cell_type": "code",
   "execution_count": 8,
   "metadata": {},
   "outputs": [
    {
     "data": {
      "text/plain": [
       "tensor([ 0.0619,  0.0205,  0.0204,  0.0015,  0.0168,  0.0075,  0.3474,\n",
       "         0.0585,  0.0414,  0.0326,  0.0266,  0.1803,  0.0583,  0.0975,\n",
       "         0.0289])"
      ]
     },
     "execution_count": 8,
     "metadata": {},
     "output_type": "execute_result"
    }
   ],
   "source": [
    "dist.Dirichlet(pyro.param('beta_q')).sample()[1]"
   ]
  },
  {
   "cell_type": "code",
   "execution_count": 9,
   "metadata": {},
   "outputs": [
    {
     "data": {
      "text/plain": [
       "(tensor(0.7428), tensor(6))"
      ]
     },
     "execution_count": 9,
     "metadata": {},
     "output_type": "execute_result"
    }
   ],
   "source": [
    "phi[1].max(0)"
   ]
  },
  {
   "cell_type": "code",
   "execution_count": null,
   "metadata": {},
   "outputs": [],
   "source": []
  }
 ],
 "metadata": {
  "kernelspec": {
   "display_name": "Python 3",
   "language": "python",
   "name": "python3"
  },
  "language_info": {
   "codemirror_mode": {
    "name": "ipython",
    "version": 3
   },
   "file_extension": ".py",
   "mimetype": "text/x-python",
   "name": "python",
   "nbconvert_exporter": "python",
   "pygments_lexer": "ipython3",
   "version": "3.6.6"
  }
 },
 "nbformat": 4,
 "nbformat_minor": 2
}
